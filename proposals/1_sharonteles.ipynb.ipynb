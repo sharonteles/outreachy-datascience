{
 "cells": [
  {
   "cell_type": "markdown",
   "metadata": {},
   "source": [
    "# Device Failure: Relationship between attributes needed #1"
   ]
  },
  {
   "cell_type": "markdown",
   "metadata": {},
   "source": [
    "Evaluating the context of Firefox behavior and it's real life components; also based on the fact that attributes are changeable properties, I would consider the values of a proper function to be specific information received from the user's network.\n",
    "\n",
    "For example, the name of the firefox profile, the client ID, the OS user profile, the initial and final time of activity in the machine.\n",
    "\n",
    "A function with those attributes would have values in different or similar scales. For instance, the name of the user would be a string, the ID of the client could be an integer or also a string, the amount of time a user spent on the program would be an interval of time acquired from importing the time module from python (format hh:mm:ss). We could also have statistical values as a ratio that would tell the interval of time spent per user on a machine (number per string) or a ratio telling the frequency of usage of a User (interval of time per day/week).\n",
    "\n",
    "Below I wrote a function that would return some of those information having the attributes given."
   ]
  },
  {
   "cell_type": "code",
   "execution_count": 203,
   "metadata": {},
   "outputs": [],
   "source": [
    "import time\n",
    "from datetime import datetime\n",
    "\n",
    "time_list=[]\n",
    "def attributes(OSprofile, firefox_name, initial_time, final_time):\n",
    "    FMT = '%H:%M:%S'\n",
    "    time_interval = datetime.strptime(final_time, FMT) - datetime.strptime(initial_time, FMT)\n",
    "    print('The user', OSprofile, 'spent the amount of time of', time_interval, 'on the Firefox Profile named', firefox_name)\n",
    "\n",
    "# this function returns in the format of a phrase the interval of time spent given the initial and final time of usage    "
   ]
  },
  {
   "cell_type": "code",
   "execution_count": 204,
   "metadata": {},
   "outputs": [
    {
     "name": "stdout",
     "output_type": "stream",
     "text": [
      "The user 456 spent the amount of time of 0:25:20 on the Firefox Profile named John\n"
     ]
    }
   ],
   "source": [
    "#testing for john\n",
    "attributes(456, 'John', '9:20:30', '9:45:50')"
   ]
  },
  {
   "cell_type": "code",
   "execution_count": 205,
   "metadata": {},
   "outputs": [
    {
     "name": "stdout",
     "output_type": "stream",
     "text": [
      "The user 123 spent the amount of time of 1:00:10 on the Firefox Profile named Jane\n",
      "The user 123 spent the amount of time of 1:18:05 on the Firefox Profile named Jane\n",
      "The user 123 spent the amount of time of 3:04:50 on the Firefox Profile named Jane\n",
      "The user 123 spent the amount of time of 1:10:10 on the Firefox Profile named Jane\n",
      "The user 123 spent the amount of time of 0:58:05 on the Firefox Profile named Jane\n",
      "The user 123 spent the amount of time of 2:33:50 on the Firefox Profile named Jane\n",
      "The user 123 spent the amount of time of 0:50:10 on the Firefox Profile named Jane\n"
     ]
    }
   ],
   "source": [
    "#for jane\n",
    "#day1\n",
    "attributes(123, 'Jane', '10:30:30', '11:30:40')\n",
    "#day2\n",
    "attributes(123, 'Jane', '10:02:00', '11:20:05')\n",
    "#day3\n",
    "attributes(123, 'Jane', '10:45:10', '13:50:00')\n",
    "#day4\n",
    "attributes(123, 'Jane', '10:20:30', '11:30:40')\n",
    "#day5\n",
    "attributes(123, 'Jane', '10:12:00', '11:10:05')\n",
    "#day6\n",
    "attributes(123, 'Jane', '10:56:10', '13:30:00')\n",
    "#day7\n",
    "attributes(123, 'Jane', '10:30:30', '11:20:40')"
   ]
  },
  {
   "cell_type": "markdown",
   "metadata": {},
   "source": [
    "For an specific user we could also plot a function of time-usage on each day of the week. \n",
    "I did that using the information from the previous function called \"attributes\".\n"
   ]
  },
  {
   "cell_type": "code",
   "execution_count": 208,
   "metadata": {},
   "outputs": [
    {
     "data": {
      "image/png": "[encoded data removed]",
      "text/plain": [
       "<matplotlib.figure.Figure at 0x1975d491a90>"
      ]
     },
     "metadata": {},
     "output_type": "display_data"
    }
   ],
   "source": [
    "#time_list is a list of the time intervals of the user Jane\n",
    "\n",
    "time_list=['1:00:10','1:18:05','3:04:50','1:10:10','0:58:05','2:33:50','0:50:10']\n",
    "days=[]\n",
    "count=0\n",
    "for i in time_list:\n",
    "    count=count+1\n",
    "    days.append(count)\n",
    "\n",
    "\n",
    "plt.figure()\n",
    "plt.scatter(days,time_list,color='blue',label='Jane')\n",
    "plt.legend()\n",
    "plt.title('Frequency of Usage')\n",
    "plt.xlabel('Days of Week')\n",
    "plt.ylabel('Time spent on Firefox')\n",
    "plt.show()\n"
   ]
  },
  {
   "cell_type": "code",
   "execution_count": null,
   "metadata": {},
   "outputs": [],
   "source": []
  }
 ],
 "metadata": {
  "kernelspec": {
   "display_name": "Python 3",
   "language": "python",
   "name": "python3"
  },
  "language_info": {
   "codemirror_mode": {
    "name": "ipython",
    "version": 3
   },
   "file_extension": ".py",
   "mimetype": "text/x-python",
   "name": "python",
   "nbconvert_exporter": "python",
   "pygments_lexer": "ipython3",
   "version": "3.6.4"
  }
 },
 "nbformat": 4,
 "nbformat_minor": 2
}
